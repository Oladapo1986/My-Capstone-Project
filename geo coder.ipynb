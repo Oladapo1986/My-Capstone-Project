{
 "cells": [
  {
   "cell_type": "code",
   "execution_count": null,
   "metadata": {
    "collapsed": true
   },
   "outputs": [],
   "source": [
    "import geocoder    #geocoder did not work for me. I have used the provided csv instead\n",
    "import pandas as pd"
   ]
  },
  {
   "cell_type": "code",
   "execution_count": null,
   "metadata": {},
   "outputs": [],
   "source": [
    "df = pd.read_csv(\"toronto.csv\")"
   ]
  },
  {
   "cell_type": "code",
   "execution_count": null,
   "metadata": {},
   "outputs": [],
   "source": [
    "df.head(5)"
   ]
  },
  {
   "cell_type": "code",
   "execution_count": null,
   "metadata": {},
   "outputs": [],
   "source": [
    "\n",
    "#remove the unwanted column\n",
    "df = df.drop(\"Unnamed: 0\", axis = 1)\n",
    "\n",
    "#remove the special characters from neighbourhood names\n",
    "df = df.replace({\"\\n\": \"\", \"\\r\": \"\"}, regex=True)\n",
    "\n",
    "print(\"There are {} unique neighbourhoods and {} unique boroughs in Toronto dataset.\".format(len(df.Neighbourhood.unique()),\n",
    "                                                                                             len(df.Borough.unique())))"
   ]
  },
  {
   "cell_type": "code",
   "execution_count": null,
   "metadata": {},
   "outputs": [],
   "source": [
    "df.head()"
   ]
  },
  {
   "cell_type": "code",
   "execution_count": null,
   "metadata": {},
   "outputs": [],
   "source": [
    "'''\n",
    "# initialize your variable to None\n",
    "lat_long_coords = None\n",
    "\n",
    "# loop until you get the coordinates\n",
    "while(lat_long_coords is None):\n",
    "    g = geocoder.google('{}, Toronto, Ontario'.format(df.Postcode))\n",
    "    lat_long_coords = g.latlng\n",
    "\n",
    "latitude = lat_long_coords[0]\n",
    "longitude = lat_long_coords[1]\n",
    "'''"
   ]
  },
  {
   "cell_type": "markdown",
   "metadata": {},
   "source": [
    "\"\\n# initialize your variable to None\\nlat_long_coords = None\\n\\n# loop until you get the coordinates\\nwhile(lat_long_coords is None):\\n    g = geocoder.google('{}, Toronto, Ontario'.format(df.Postcode))\\n    lat_long_coords = g.latlng\\n\\nlatitude = lat_long_coords[0]\\nlongitude = lat_long_coords[1]\\n\""
   ]
  },
  {
   "cell_type": "code",
   "execution_count": null,
   "metadata": {},
   "outputs": [],
   "source": [
    "df_coord = pd.read_csv(\"Geospatial_Coordinates.csv\")"
   ]
  },
  {
   "cell_type": "code",
   "execution_count": null,
   "metadata": {},
   "outputs": [],
   "source": [
    "df_coord.columns"
   ]
  },
  {
   "cell_type": "code",
   "execution_count": null,
   "metadata": {},
   "outputs": [],
   "source": [
    "df_coord.columns = [\"Postcode\", \"Latitude\", \"Longitude\"]"
   ]
  },
  {
   "cell_type": "code",
   "execution_count": null,
   "metadata": {},
   "outputs": [],
   "source": [
    "df_coord.head()"
   ]
  },
  {
   "cell_type": "code",
   "execution_count": null,
   "metadata": {},
   "outputs": [],
   "source": [
    "df = df.join(df_coord.set_index(\"Postcode\"), on = \"Postcode\")"
   ]
  },
  {
   "cell_type": "code",
   "execution_count": null,
   "metadata": {},
   "outputs": [],
   "source": [
    "df.head()"
   ]
  },
  {
   "cell_type": "code",
   "execution_count": null,
   "metadata": {},
   "outputs": [],
   "source": [
    "f.shape"
   ]
  },
  {
   "cell_type": "code",
   "execution_count": null,
   "metadata": {},
   "outputs": [],
   "source": [
    "df.to_csv(\"toronto_coords.csv\")"
   ]
  }
 ],
 "metadata": {
  "kernelspec": {
   "display_name": "Python 3.5",
   "language": "python",
   "name": "python3"
  },
  "language_info": {
   "codemirror_mode": {
    "name": "ipython",
    "version": 3
   },
   "file_extension": ".py",
   "mimetype": "text/x-python",
   "name": "python",
   "nbconvert_exporter": "python",
   "pygments_lexer": "ipython3",
   "version": "3.5.5"
  }
 },
 "nbformat": 4,
 "nbformat_minor": 1
}
